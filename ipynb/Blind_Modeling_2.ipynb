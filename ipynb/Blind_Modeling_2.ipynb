{
  "nbformat": 4,
  "nbformat_minor": 0,
  "metadata": {
    "colab": {
      "provenance": []
    },
    "kernelspec": {
      "name": "python3",
      "display_name": "Python 3"
    },
    "language_info": {
      "name": "python"
    }
  },
  "cells": [
    {
      "cell_type": "code",
      "source": [
        "!pip install konlpy"
      ],
      "metadata": {
        "colab": {
          "base_uri": "https://localhost:8080/"
        },
        "id": "o0x_-iMipfQ5",
        "outputId": "5533fff3-d284-4c35-ba26-c100d4bc2be2"
      },
      "execution_count": null,
      "outputs": [
        {
          "output_type": "stream",
          "name": "stdout",
          "text": [
            "Looking in indexes: https://pypi.org/simple, https://us-python.pkg.dev/colab-wheels/public/simple/\n",
            "Collecting konlpy\n",
            "  Downloading konlpy-0.6.0-py2.py3-none-any.whl (19.4 MB)\n",
            "\u001b[K     |████████████████████████████████| 19.4 MB 1.3 MB/s \n",
            "\u001b[?25hRequirement already satisfied: numpy>=1.6 in /usr/local/lib/python3.7/dist-packages (from konlpy) (1.21.6)\n",
            "Requirement already satisfied: lxml>=4.1.0 in /usr/local/lib/python3.7/dist-packages (from konlpy) (4.9.1)\n",
            "Collecting JPype1>=0.7.0\n",
            "  Downloading JPype1-1.4.1-cp37-cp37m-manylinux_2_12_x86_64.manylinux2010_x86_64.whl (465 kB)\n",
            "\u001b[K     |████████████████████████████████| 465 kB 47.8 MB/s \n",
            "\u001b[?25hRequirement already satisfied: packaging in /usr/local/lib/python3.7/dist-packages (from JPype1>=0.7.0->konlpy) (21.3)\n",
            "Requirement already satisfied: typing-extensions in /usr/local/lib/python3.7/dist-packages (from JPype1>=0.7.0->konlpy) (4.1.1)\n",
            "Requirement already satisfied: pyparsing!=3.0.5,>=2.0.2 in /usr/local/lib/python3.7/dist-packages (from packaging->JPype1>=0.7.0->konlpy) (3.0.9)\n",
            "Installing collected packages: JPype1, konlpy\n",
            "Successfully installed JPype1-1.4.1 konlpy-0.6.0\n"
          ]
        }
      ]
    },
    {
      "cell_type": "code",
      "source": [
        "from tqdm.notebook import tqdm\n",
        "from bs4 import BeautifulSoup\n",
        "import pandas as pd\n",
        "import requests\n",
        "import json\n",
        "import re\n",
        "import os\n",
        "from datetime import datetime\n",
        "from sklearn.feature_extraction.text import CountVectorizer, TfidfVectorizer\n",
        "from sklearn.linear_model import LogisticRegression\n",
        "from sklearn.ensemble import RandomForestClassifier\n",
        "from sklearn.naive_bayes import MultinomialNB\n",
        "from sklearn.neighbors import KNeighborsClassifier\n",
        "from wordcloud import WordCloud\n",
        "from konlpy.tag import Okt\n",
        "from konlpy.tag import Mecab\n",
        "from collections import Counter\n",
        "import matplotlib.pyplot as plt\n",
        "import numpy as np\n",
        "from PIL import Image\n",
        "from sklearn.linear_model import Ridge\n",
        "from sklearn.linear_model import LinearRegression"
      ],
      "metadata": {
        "id": "exIdHp1RpfVS"
      },
      "execution_count": null,
      "outputs": []
    },
    {
      "cell_type": "code",
      "source": [
        "total = pd.read_csv('DataBlind.csv') # 널값 확인\n",
        "total.info\n",
        "#total = total[total['review'].notnull()]\n",
        "X = total['review']\n",
        "Y = total['label']"
      ],
      "metadata": {
        "id": "20duPTlOpfXp"
      },
      "execution_count": null,
      "outputs": []
    },
    {
      "cell_type": "code",
      "source": [
        "X_input = total[(total['enter'] == 'naver')]\n",
        "X_input"
      ],
      "metadata": {
        "id": "ZZunPJ9O538h"
      },
      "execution_count": null,
      "outputs": []
    },
    {
      "cell_type": "code",
      "source": [
        "# X, Y train / test split\n",
        "from sklearn.model_selection import train_test_split\n",
        "#8:2 \n",
        "X_train, X_test, Y_train, Y_test = train_test_split(X, Y, test_size = 0.2, shuffle = True, stratify=Y, random_state = 0)\n"
      ],
      "metadata": {
        "id": "NZEkr1aypfZr"
      },
      "execution_count": null,
      "outputs": []
    },
    {
      "cell_type": "code",
      "source": [
        "# 토큰화  N-gram 을 해주는 함수\n",
        "def preprocessing(review):   \n",
        "    okt = Okt()    \n",
        "    \n",
        "    f = open('stward.txt')\n",
        "    stop_words = f.read().split()  \n",
        "    review_text = re.sub(\"[^가-힣\\\\s]\", \"\", review)  \n",
        "    word_review = okt.pos(review_text, stem=True)   \n",
        "    word_review = [(token, pos) for token, pos in word_review if not token in stop_words and len(token) > 1]   \n",
        "    word_review = [token for token, pos in word_review if pos in ['Noun', 'Verb', 'Adjective']] \n",
        "    \n",
        "    n_gram = [' '.join(word_review[i:i+2]) for i in range(len(word_review)-1)]\n",
        "     \n",
        "    word_review += n_gram\n",
        "    \n",
        "    return word_review"
      ],
      "metadata": {
        "id": "YZ0Yzwxup-w4"
      },
      "execution_count": null,
      "outputs": []
    },
    {
      "cell_type": "code",
      "execution_count": null,
      "metadata": {
        "colab": {
          "base_uri": "https://localhost:8080/"
        },
        "id": "oDQRy_ghpXXm",
        "outputId": "eb0eceb2-6a9d-4a1e-a727-4304dcec95b0"
      },
      "outputs": [
        {
          "output_type": "execute_result",
          "data": {
            "text/plain": [
              "array([[0., 0., 0., ..., 0., 0., 0.],\n",
              "       [0., 0., 0., ..., 0., 0., 0.],\n",
              "       [0., 0., 0., ..., 0., 0., 0.],\n",
              "       ...,\n",
              "       [0., 0., 0., ..., 0., 0., 0.],\n",
              "       [0., 0., 0., ..., 0., 0., 0.],\n",
              "       [0., 0., 0., ..., 0., 0., 0.]])"
            ]
          },
          "metadata": {},
          "execution_count": 7
        }
      ],
      "source": [
        "#Tf-Idf 벡터화\n",
        "from sklearn.feature_extraction.text import CountVectorizer, TfidfVectorizer\n",
        "from sklearn.linear_model import LogisticRegression\n",
        "#벡터화 , Tfidf \n",
        "tfidf = TfidfVectorizer(tokenizer=preprocessing, max_features=2000, min_df=5, max_df=0.5) #의미 , 최소갯수, 단어장에 포함되기 위한 최대빈도\n",
        "\n",
        "X_train_tfidf = tfidf.fit_transform(X_train) #문제집\n",
        "\n",
        "X_test_tfidf = tfidf.transform(X_test) #시험지\n",
        "X_train_tfidf.toarray()"
      ]
    },
    {
      "cell_type": "code",
      "source": [
        "#로지스틱 리그레션 \n",
        "from sklearn.linear_model import LogisticRegression\n",
        "from sklearn.model_selection import train_test_split\n",
        "#blind_log 이라는 변수에 LogisticRegression 모델을 생성한 후 train데이터로 학습\n",
        "blind_log = LogisticRegression(random_state = 0, C=1) #c(overfit=규제화 0.1 강화 / underfit = 규제화 10 약화)\n",
        "blind_log.fit(X_train_tfidf, Y_train)\n",
        "print('Train set score: {:.3f}'.format(blind_log.score(X_train_tfidf, Y_train)))   \n",
        "print('Test set score: {:.3f}'.format(blind_log.score(X_test_tfidf, Y_test)))"
      ],
      "metadata": {
        "colab": {
          "base_uri": "https://localhost:8080/"
        },
        "id": "wFNG1aYKpYuy",
        "outputId": "b54a2de6-e027-4f62-a542-80594876aa1c"
      },
      "execution_count": null,
      "outputs": [
        {
          "output_type": "stream",
          "name": "stdout",
          "text": [
            "Train set score: 0.928\n",
            "Test set score: 0.914\n"
          ]
        }
      ]
    },
    {
      "cell_type": "code",
      "source": [
        "# 앞서 소개한 분류 평가지표로 모델을 다시 평가해보자.\n",
        "# 먼저 0과 1 클래스의 비율이 동일한 데이터셋으로 학습한 모델을 평가해보자.\n",
        "from sklearn.metrics import confusion_matrix, accuracy_score, precision_score, recall_score, f1_score, plot_roc_curve, roc_auc_score\n",
        "\n",
        "# roc_auc는 예측 클래스값이 아닌 예측 확률값을 기반으로 계산되므로 positive(1)로 예측할 확률값인 pred_proba 변수를 생성해준다.\n",
        "pred = blind_log.predict(X_test_tfidf)\n",
        "pred_proba = blind_log.predict_proba(X_test_tfidf)[:,1]\n",
        "print('오차행렬:\\n', confusion_matrix(Y_test, pred))\n",
        "print('정확도:  ', accuracy_score(Y_test, pred))\n",
        "print('정밀도:  ', precision_score(Y_test, pred))\n",
        "print('재현율:  ', recall_score(Y_test, pred))\n",
        "print('F1 스코어:   ', f1_score(Y_test, pred))\n",
        "print('ROC_AUC: ', roc_auc_score(Y_test, pred_proba))\n",
        "plot_roc_curve(blind_log, X_test_tfidf, Y_test)\n",
        "plt.plot([0, 1], [0, 1], 'r--', label='Random') # 가운데 대각선 직선\n",
        "plt.legend()\n",
        "plt.show()"
      ],
      "metadata": {
        "colab": {
          "base_uri": "https://localhost:8080/",
          "height": 478
        },
        "id": "fO7b0jr8sesU",
        "outputId": "ef48023f-4e2c-4f99-fb68-7634e8592067"
      },
      "execution_count": null,
      "outputs": [
        {
          "output_type": "stream",
          "name": "stdout",
          "text": [
            "오차행렬:\n",
            " [[1823  137]\n",
            " [ 201 1759]]\n",
            "정확도:   0.9137755102040817\n",
            "정밀도:   0.9277426160337553\n",
            "재현율:   0.8974489795918368\n",
            "F1 스코어:    0.9123443983402489\n",
            "ROC_AUC:  0.9699120158267388\n"
          ]
        },
        {
          "output_type": "stream",
          "name": "stderr",
          "text": [
            "/usr/local/lib/python3.7/dist-packages/sklearn/utils/deprecation.py:87: FutureWarning: Function plot_roc_curve is deprecated; Function :func:`plot_roc_curve` is deprecated in 1.0 and will be removed in 1.2. Use one of the class methods: :meth:`sklearn.metric.RocCurveDisplay.from_predictions` or :meth:`sklearn.metric.RocCurveDisplay.from_estimator`.\n",
            "  warnings.warn(msg, category=FutureWarning)\n"
          ]
        },
        {
          "output_type": "display_data",
          "data": {
            "text/plain": [
              "<Figure size 432x288 with 1 Axes>"
            ],
            "image/png": "[encoded data removed]"
          },
          "metadata": {
            "needs_background": "light"
          }
        }
      ]
    },
    {
      "cell_type": "code",
      "source": [
        "#랜덤포레스트\n",
        "\n",
        "from sklearn.ensemble import RandomForestClassifier\n",
        "\n",
        "blind_rf = RandomForestClassifier(n_estimators = 100, max_depth=30, random_state = 0)   # 결정트리(나무100개) 100개 / 하나의 트리의 길이는(deep깊이) 30 \n",
        "blind_rf.fit(X_train_tfidf, Y_train)\n",
        "print('Train set score: {:.3f}'.format(blind_rf.score(X_train_tfidf, Y_train)))\n",
        "print('Test set score: {:.3f}'.format(blind_rf.score(X_test_tfidf, Y_test)))"
      ],
      "metadata": {
        "colab": {
          "base_uri": "https://localhost:8080/"
        },
        "id": "HtItOkods0kf",
        "outputId": "898aec8b-66b2-4df4-ddd7-b445a5dd8a10"
      },
      "execution_count": null,
      "outputs": [
        {
          "output_type": "stream",
          "name": "stdout",
          "text": [
            "Train set score: 0.918\n",
            "Test set score: 0.865\n"
          ]
        }
      ]
    },
    {
      "cell_type": "code",
      "source": [],
      "metadata": {
        "id": "TXBbn3sC3Cpg"
      },
      "execution_count": null,
      "outputs": []
    },
    {
      "cell_type": "code",
      "source": [
        "#그래디언부스팅 \n",
        "from sklearn.ensemble import GradientBoostingClassifier\n",
        "\n",
        "gbrt = GradientBoostingClassifier(random_state=0)\n",
        "gbrt.fit(X_train_tfidf, Y_train)\n",
        "\n",
        "print(\"훈련 세트 정확도: {:.3f}\".format(gbrt.score(X_train_tfidf, Y_train)))\n",
        "print(\"테스트 세트 정확도: {:.3f}\".format(gbrt.score(X_test_tfidf, Y_test)))\n",
        "\n",
        "brt = GradientBoostingClassifier(random_state=0, max_depth=1)\n",
        "gbrt.fit(X_train_tfidf, Y_train)\n",
        "\n",
        "print(\"훈련 세트 정확도: {:.3f}\".format(gbrt.score(X_train_tfidf, Y_train)))\n",
        "print(\"테스트 세트 정확도: {:.3f}\".format(gbrt.score(X_test_tfidf, Y_test)))\n",
        "\n",
        "gbrt = GradientBoostingClassifier(random_state=0, learning_rate=0.1)\n",
        "gbrt.fit(X_train_tfidf, Y_train)\n",
        "\n",
        "print(\"훈련 세트 정확도: {:.3f}\".format(gbrt.score(X_train_tfidf, Y_train)))\n",
        "print(\"테스트 세트 정확도: {:.3f}\".format(gbrt.score(X_test_tfidf, Y_test)))"
      ],
      "metadata": {
        "colab": {
          "base_uri": "https://localhost:8080/"
        },
        "id": "xgVtCkRTAvAJ",
        "outputId": "9582c78a-ed72-4188-f45d-6f4df1834344"
      },
      "execution_count": null,
      "outputs": [
        {
          "output_type": "stream",
          "name": "stdout",
          "text": [
            "훈련 세트 정확도: 0.853\n",
            "테스트 세트 정확도: 0.837\n",
            "훈련 세트 정확도: 0.853\n",
            "테스트 세트 정확도: 0.837\n",
            "훈련 세트 정확도: 0.853\n",
            "테스트 세트 정확도: 0.837\n"
          ]
        }
      ]
    },
    {
      "cell_type": "code",
      "source": [
        "#모델핸들링 성능향상\n",
        "import pickle\n",
        "from google.colab import drive\n",
        "\n",
        "import pandas as pd\n",
        "import numpy as np\n",
        "\n",
        "import seaborn as sns\n",
        "import matplotlib.pyplot as plt\n",
        "%matplotlib inline\n",
        "\n",
        "from sklearn.impute import SimpleImputer\n",
        "from sklearn.preprocessing import OneHotEncoder, StandardScaler\n",
        "from sklearn.base import BaseEstimator, TransformerMixin\n",
        "\n",
        "from sklearn.ensemble import RandomForestClassifier, AdaBoostClassifier, GradientBoostingClassifier, ExtraTreesClassifier, VotingClassifier\n",
        "from sklearn.discriminant_analysis import LinearDiscriminantAnalysis\n",
        "from sklearn.linear_model import LogisticRegression\n",
        "from sklearn.neighbors import KNeighborsClassifier\n",
        "from sklearn.tree import DecisionTreeClassifier\n",
        "from sklearn.neural_network import MLPClassifier\n",
        "from sklearn.svm import SVC\n",
        "\n",
        "from sklearn.model_selection import train_test_split\n",
        "from sklearn.model_selection import GridSearchCV, cross_val_score, StratifiedKFold, learning_curve\n",
        "from sklearn.ensemble import VotingClassifier\n",
        "from sklearn.model_selection import cross_val_predict\n",
        "from sklearn import model_selection"
      ],
      "metadata": {
        "id": "aVZlmdS2Bjmv"
      },
      "execution_count": null,
      "outputs": []
    },
    {
      "cell_type": "code",
      "source": [
        "#분류모델 담을 리스트 생성\n",
        "classifiers = []\n",
        "#랜덤스테이트 2설정\n",
        "random_state = 2\n",
        "#데이터프레임 생성을 위하여 알고리즘 제목 저장\n",
        "clf_names = ['Random Forest','Gradient Boost', 'Logistic Regression','Support Vector' ]\n",
        "#트리기반 알고리즘\n",
        "classifiers.append(RandomForestClassifier(random_state=random_state))\n",
        "classifiers.append(GradientBoostingClassifier(random_state=random_state))\n",
        "#선형 알고리즘\n",
        "classifiers.append(LogisticRegression(random_state = random_state))\n",
        "classifiers.append(SVC(random_state=random_state))\n"
      ],
      "metadata": {
        "id": "aDAVgb8v0SPP"
      },
      "execution_count": null,
      "outputs": []
    },
    {
      "cell_type": "code",
      "source": [
        "#레이블인코딩된 데이터로 교차검증을 수행하여 리스트에 저장\n",
        "# 보통 kfold를 4개로 주거나 딱떨어지게 준다.\n",
        "kfold = StratifiedKFold(n_splits=10) #n_splits = 10 10번의 교차 검증을 시행하겠다.\n",
        "\n",
        "cv_results = []\n",
        "for classifier in classifiers : #크로스 벨리션 스코어를 실행 #교차검증 10번시키고 학습 -> 검증\n",
        "    cv_results.append(cross_val_score(classifier, X_train_tfidf, y = Y_train,\n",
        "                                      scoring = \"accuracy\", cv = kfold, n_jobs=4)) #엔잡은 씨피유몇개\n"
      ],
      "metadata": {
        "id": "rONsDjdX1ozl"
      },
      "execution_count": null,
      "outputs": []
    },
    {
      "cell_type": "code",
      "source": [
        " # 교차검증 점수 리스트 출력 #리스트를 보면 이 결과가 array가 1개의 개념 \n",
        "# 각각 모델의 결과\n",
        "# array가 10개의 cross_val_score\n",
        "cv_results"
      ],
      "metadata": {
        "colab": {
          "base_uri": "https://localhost:8080/"
        },
        "id": "Tp6JLuBb1pkr",
        "outputId": "112fe3b7-d395-4a0a-94d3-4cc68047b869"
      },
      "execution_count": null,
      "outputs": [
        {
          "output_type": "execute_result",
          "data": {
            "text/plain": [
              "[array([0.87882653, 0.86798469, 0.87372449, 0.88711735, 0.8807398 ,\n",
              "        0.86543367, 0.8787492 , 0.88704531, 0.87364391, 0.87938736]),\n",
              " array([0.83035714, 0.8252551 , 0.82844388, 0.84757653, 0.84183673,\n",
              "        0.83673469, 0.83599234, 0.85003191, 0.83535418, 0.84492661]),\n",
              " array([0.89604592, 0.89923469, 0.90561224, 0.91964286, 0.91709184,\n",
              "        0.88520408, 0.90491385, 0.91831525, 0.9074665 , 0.90938098]),\n",
              " array([0.89413265, 0.90242347, 0.91262755, 0.9247449 , 0.91517857,\n",
              "        0.89158163, 0.91065731, 0.92661136, 0.91384812, 0.91448628])]"
            ]
          },
          "metadata": {},
          "execution_count": 11
        }
      ]
    },
    {
      "cell_type": "code",
      "source": [
        "# 첫 번째 모델 랜덤포레스트의 평균 교차검증 점수 출력\n",
        "cv_results[0].mean()"
      ],
      "metadata": {
        "colab": {
          "base_uri": "https://localhost:8080/"
        },
        "id": "msoTT-jw20-B",
        "outputId": "6042cf40-6494-4e98-cb7c-3014f2986d25"
      },
      "execution_count": null,
      "outputs": [
        {
          "output_type": "execute_result",
          "data": {
            "text/plain": [
              "0.8772652312360808"
            ]
          },
          "metadata": {},
          "execution_count": 12
        }
      ]
    },
    {
      "cell_type": "code",
      "source": [
        "# 첫 번째 모델(Decision Tree Classifier)의 교차검증 점수 표준편차 출력\n",
        "cv_results[0].std()"
      ],
      "metadata": {
        "colab": {
          "base_uri": "https://localhost:8080/"
        },
        "id": "gpSjKnpf3FkB",
        "outputId": "974ad007-8fcb-41b0-95a0-c6c6ec73e14f"
      },
      "execution_count": null,
      "outputs": [
        {
          "output_type": "execute_result",
          "data": {
            "text/plain": [
              "0.006824184728240763"
            ]
          },
          "metadata": {},
          "execution_count": 13
        }
      ]
    },
    {
      "cell_type": "code",
      "source": [
        "# 모델들의 교차검증 점수의 평균과 표준편차를 계산하여 리스트에 저장\n",
        "cv_means = []\n",
        "cv_std = []\n",
        "\n",
        "for cv_result in cv_results:\n",
        "    cv_means.append(cv_result.mean())\n",
        "    cv_std.append(cv_result.std())"
      ],
      "metadata": {
        "id": "jfX9EFXq3I0b"
      },
      "execution_count": null,
      "outputs": []
    },
    {
      "cell_type": "code",
      "source": [
        "#데이터프레임으로 변환\n",
        "results_le = pd.DataFrame(cv_results, index=clf_names)\n",
        "results_le"
      ],
      "metadata": {
        "colab": {
          "base_uri": "https://localhost:8080/",
          "height": 175
        },
        "id": "E49EyAf23NxY",
        "outputId": "dd505024-fdff-49dc-b1c1-ce0c91bf37d8"
      },
      "execution_count": null,
      "outputs": [
        {
          "output_type": "execute_result",
          "data": {
            "text/plain": [
              "                            0         1         2         3         4  \\\n",
              "Random Forest        0.878827  0.867985  0.873724  0.887117  0.880740   \n",
              "Gradient Boost       0.830357  0.825255  0.828444  0.847577  0.841837   \n",
              "Logistic Regression  0.896046  0.899235  0.905612  0.919643  0.917092   \n",
              "Support Vector       0.894133  0.902423  0.912628  0.924745  0.915179   \n",
              "\n",
              "                            5         6         7         8         9  \n",
              "Random Forest        0.865434  0.878749  0.887045  0.873644  0.879387  \n",
              "Gradient Boost       0.836735  0.835992  0.850032  0.835354  0.844927  \n",
              "Logistic Regression  0.885204  0.904914  0.918315  0.907466  0.909381  \n",
              "Support Vector       0.891582  0.910657  0.926611  0.913848  0.914486  "
            ],
            "text/html": [
              "\n",
              "  <div id=\"df-27dd1664-82f8-4e9e-b4db-be5eca3b2a83\">\n",
              "    <div class=\"colab-df-container\">\n",
              "      <div>\n",
              "<style scoped>\n",
              "    .dataframe tbody tr th:only-of-type {\n",
              "        vertical-align: middle;\n",
              "    }\n",
              "\n",
              "    .dataframe tbody tr th {\n",
              "        vertical-align: top;\n",
              "    }\n",
              "\n",
              "    .dataframe thead th {\n",
              "        text-align: right;\n",
              "    }\n",
              "</style>\n",
              "<table border=\"1\" class=\"dataframe\">\n",
              "  <thead>\n",
              "    <tr style=\"text-align: right;\">\n",
              "      <th></th>\n",
              "      <th>0</th>\n",
              "      <th>1</th>\n",
              "      <th>2</th>\n",
              "      <th>3</th>\n",
              "      <th>4</th>\n",
              "      <th>5</th>\n",
              "      <th>6</th>\n",
              "      <th>7</th>\n",
              "      <th>8</th>\n",
              "      <th>9</th>\n",
              "    </tr>\n",
              "  </thead>\n",
              "  <tbody>\n",
              "    <tr>\n",
              "      <th>Random Forest</th>\n",
              "      <td>0.878827</td>\n",
              "      <td>0.867985</td>\n",
              "      <td>0.873724</td>\n",
              "      <td>0.887117</td>\n",
              "      <td>0.880740</td>\n",
              "      <td>0.865434</td>\n",
              "      <td>0.878749</td>\n",
              "      <td>0.887045</td>\n",
              "      <td>0.873644</td>\n",
              "      <td>0.879387</td>\n",
              "    </tr>\n",
              "    <tr>\n",
              "      <th>Gradient Boost</th>\n",
              "      <td>0.830357</td>\n",
              "      <td>0.825255</td>\n",
              "      <td>0.828444</td>\n",
              "      <td>0.847577</td>\n",
              "      <td>0.841837</td>\n",
              "      <td>0.836735</td>\n",
              "      <td>0.835992</td>\n",
              "      <td>0.850032</td>\n",
              "      <td>0.835354</td>\n",
              "      <td>0.844927</td>\n",
              "    </tr>\n",
              "    <tr>\n",
              "      <th>Logistic Regression</th>\n",
              "      <td>0.896046</td>\n",
              "      <td>0.899235</td>\n",
              "      <td>0.905612</td>\n",
              "      <td>0.919643</td>\n",
              "      <td>0.917092</td>\n",
              "      <td>0.885204</td>\n",
              "      <td>0.904914</td>\n",
              "      <td>0.918315</td>\n",
              "      <td>0.907466</td>\n",
              "      <td>0.909381</td>\n",
              "    </tr>\n",
              "    <tr>\n",
              "      <th>Support Vector</th>\n",
              "      <td>0.894133</td>\n",
              "      <td>0.902423</td>\n",
              "      <td>0.912628</td>\n",
              "      <td>0.924745</td>\n",
              "      <td>0.915179</td>\n",
              "      <td>0.891582</td>\n",
              "      <td>0.910657</td>\n",
              "      <td>0.926611</td>\n",
              "      <td>0.913848</td>\n",
              "      <td>0.914486</td>\n",
              "    </tr>\n",
              "  </tbody>\n",
              "</table>\n",
              "</div>\n",
              "      <button class=\"colab-df-convert\" onclick=\"convertToInteractive('df-27dd1664-82f8-4e9e-b4db-be5eca3b2a83')\"\n",
              "              title=\"Convert this dataframe to an interactive table.\"\n",
              "              style=\"display:none;\">\n",
              "        \n",
              "  <svg xmlns=\"http://www.w3.org/2000/svg\" height=\"24px\"viewBox=\"0 0 24 24\"\n",
              "       width=\"24px\">\n",
              "    <path d=\"M0 0h24v24H0V0z\" fill=\"none\"/>\n",
              "    <path d=\"M18.56 5.44l.94 2.06.94-2.06 2.06-.94-2.06-.94-.94-2.06-.94 2.06-2.06.94zm-11 1L8.5 8.5l.94-2.06 2.06-.94-2.06-.94L8.5 2.5l-.94 2.06-2.06.94zm10 10l.94 2.06.94-2.06 2.06-.94-2.06-.94-.94-2.06-.94 2.06-2.06.94z\"/><path d=\"M17.41 7.96l-1.37-1.37c-.4-.4-.92-.59-1.43-.59-.52 0-1.04.2-1.43.59L10.3 9.45l-7.72 7.72c-.78.78-.78 2.05 0 2.83L4 21.41c.39.39.9.59 1.41.59.51 0 1.02-.2 1.41-.59l7.78-7.78 2.81-2.81c.8-.78.8-2.07 0-2.86zM5.41 20L4 18.59l7.72-7.72 1.47 1.35L5.41 20z\"/>\n",
              "  </svg>\n",
              "      </button>\n",
              "      \n",
              "  <style>\n",
              "    .colab-df-container {\n",
              "      display:flex;\n",
              "      flex-wrap:wrap;\n",
              "      gap: 12px;\n",
              "    }\n",
              "\n",
              "    .colab-df-convert {\n",
              "      background-color: #E8F0FE;\n",
              "      border: none;\n",
              "      border-radius: 50%;\n",
              "      cursor: pointer;\n",
              "      display: none;\n",
              "      fill: #1967D2;\n",
              "      height: 32px;\n",
              "      padding: 0 0 0 0;\n",
              "      width: 32px;\n",
              "    }\n",
              "\n",
              "    .colab-df-convert:hover {\n",
              "      background-color: #E2EBFA;\n",
              "      box-shadow: 0px 1px 2px rgba(60, 64, 67, 0.3), 0px 1px 3px 1px rgba(60, 64, 67, 0.15);\n",
              "      fill: #174EA6;\n",
              "    }\n",
              "\n",
              "    [theme=dark] .colab-df-convert {\n",
              "      background-color: #3B4455;\n",
              "      fill: #D2E3FC;\n",
              "    }\n",
              "\n",
              "    [theme=dark] .colab-df-convert:hover {\n",
              "      background-color: #434B5C;\n",
              "      box-shadow: 0px 1px 3px 1px rgba(0, 0, 0, 0.15);\n",
              "      filter: drop-shadow(0px 1px 2px rgba(0, 0, 0, 0.3));\n",
              "      fill: #FFFFFF;\n",
              "    }\n",
              "  </style>\n",
              "\n",
              "      <script>\n",
              "        const buttonEl =\n",
              "          document.querySelector('#df-27dd1664-82f8-4e9e-b4db-be5eca3b2a83 button.colab-df-convert');\n",
              "        buttonEl.style.display =\n",
              "          google.colab.kernel.accessAllowed ? 'block' : 'none';\n",
              "\n",
              "        async function convertToInteractive(key) {\n",
              "          const element = document.querySelector('#df-27dd1664-82f8-4e9e-b4db-be5eca3b2a83');\n",
              "          const dataTable =\n",
              "            await google.colab.kernel.invokeFunction('convertToInteractive',\n",
              "                                                     [key], {});\n",
              "          if (!dataTable) return;\n",
              "\n",
              "          const docLinkHtml = 'Like what you see? Visit the ' +\n",
              "            '<a target=\"_blank\" href=https://colab.research.google.com/notebooks/data_table.ipynb>data table notebook</a>'\n",
              "            + ' to learn more about interactive tables.';\n",
              "          element.innerHTML = '';\n",
              "          dataTable['output_type'] = 'display_data';\n",
              "          await google.colab.output.renderOutput(dataTable, element);\n",
              "          const docLink = document.createElement('div');\n",
              "          docLink.innerHTML = docLinkHtml;\n",
              "          element.appendChild(docLink);\n",
              "        }\n",
              "      </script>\n",
              "    </div>\n",
              "  </div>\n",
              "  "
            ]
          },
          "metadata": {},
          "execution_count": 15
        }
      ]
    },
    {
      "cell_type": "code",
      "source": [
        "# 모델별 교차검증 점수 평균, 표준편차를 새로운 칼럼으로 추가\n",
        "results_le['mean'] = cv_means\n",
        "results_le['std'] = cv_std"
      ],
      "metadata": {
        "id": "4ovfCCbL3Rf9"
      },
      "execution_count": null,
      "outputs": []
    },
    {
      "cell_type": "code",
      "source": [
        "#  모델별 교자검증 점수 평균 시각화\n",
        "g = sns.barplot(\"mean\",results_le.index ,data = results_le, palette=\"Set3\",orient = \"h\",**{'xerr':cv_std})\n",
        "g.set_xlabel(\"Mean Accuracy\")\n",
        "g = g.set_title(\"Cross validation scores\")"
      ],
      "metadata": {
        "colab": {
          "base_uri": "https://localhost:8080/",
          "height": 351
        },
        "id": "1QzVdo1K3ea2",
        "outputId": "197e9bce-ba24-41c4-9305-7f26a252c472"
      },
      "execution_count": null,
      "outputs": [
        {
          "output_type": "stream",
          "name": "stderr",
          "text": [
            "/usr/local/lib/python3.7/dist-packages/seaborn/_decorators.py:43: FutureWarning: Pass the following variables as keyword args: x, y. From version 0.12, the only valid positional argument will be `data`, and passing other arguments without an explicit keyword will result in an error or misinterpretation.\n",
            "  FutureWarning\n"
          ]
        },
        {
          "output_type": "display_data",
          "data": {
            "text/plain": [
              "<Figure size 432x288 with 1 Axes>"
            ],
            "image/png": "[encoded data removed]"
          },
          "metadata": {
            "needs_background": "light"
          }
        }
      ]
    },
    {
      "cell_type": "code",
      "source": [
        "results_le.T"
      ],
      "metadata": {
        "colab": {
          "base_uri": "https://localhost:8080/",
          "height": 426
        },
        "id": "YzUAdpHu3hLT",
        "outputId": "2605d75b-238a-46f0-d8a1-61e8c0964956"
      },
      "execution_count": null,
      "outputs": [
        {
          "output_type": "execute_result",
          "data": {
            "text/plain": [
              "      Random Forest  Gradient Boost  Logistic Regression  Support Vector\n",
              "0          0.878827        0.830357             0.896046        0.894133\n",
              "1          0.867985        0.825255             0.899235        0.902423\n",
              "2          0.873724        0.828444             0.905612        0.912628\n",
              "3          0.887117        0.847577             0.919643        0.924745\n",
              "4          0.880740        0.841837             0.917092        0.915179\n",
              "5          0.865434        0.836735             0.885204        0.891582\n",
              "6          0.878749        0.835992             0.904914        0.910657\n",
              "7          0.887045        0.850032             0.918315        0.926611\n",
              "8          0.873644        0.835354             0.907466        0.913848\n",
              "9          0.879387        0.844927             0.909381        0.914486\n",
              "mean       0.877265        0.837651             0.906291        0.910629\n",
              "std        0.006824        0.007891             0.010258        0.010986"
            ],
            "text/html": [
              "\n",
              "  <div id=\"df-453e8eda-dd1e-4fb9-a083-c8cd99954c63\">\n",
              "    <div class=\"colab-df-container\">\n",
              "      <div>\n",
              "<style scoped>\n",
              "    .dataframe tbody tr th:only-of-type {\n",
              "        vertical-align: middle;\n",
              "    }\n",
              "\n",
              "    .dataframe tbody tr th {\n",
              "        vertical-align: top;\n",
              "    }\n",
              "\n",
              "    .dataframe thead th {\n",
              "        text-align: right;\n",
              "    }\n",
              "</style>\n",
              "<table border=\"1\" class=\"dataframe\">\n",
              "  <thead>\n",
              "    <tr style=\"text-align: right;\">\n",
              "      <th></th>\n",
              "      <th>Random Forest</th>\n",
              "      <th>Gradient Boost</th>\n",
              "      <th>Logistic Regression</th>\n",
              "      <th>Support Vector</th>\n",
              "    </tr>\n",
              "  </thead>\n",
              "  <tbody>\n",
              "    <tr>\n",
              "      <th>0</th>\n",
              "      <td>0.878827</td>\n",
              "      <td>0.830357</td>\n",
              "      <td>0.896046</td>\n",
              "      <td>0.894133</td>\n",
              "    </tr>\n",
              "    <tr>\n",
              "      <th>1</th>\n",
              "      <td>0.867985</td>\n",
              "      <td>0.825255</td>\n",
              "      <td>0.899235</td>\n",
              "      <td>0.902423</td>\n",
              "    </tr>\n",
              "    <tr>\n",
              "      <th>2</th>\n",
              "      <td>0.873724</td>\n",
              "      <td>0.828444</td>\n",
              "      <td>0.905612</td>\n",
              "      <td>0.912628</td>\n",
              "    </tr>\n",
              "    <tr>\n",
              "      <th>3</th>\n",
              "      <td>0.887117</td>\n",
              "      <td>0.847577</td>\n",
              "      <td>0.919643</td>\n",
              "      <td>0.924745</td>\n",
              "    </tr>\n",
              "    <tr>\n",
              "      <th>4</th>\n",
              "      <td>0.880740</td>\n",
              "      <td>0.841837</td>\n",
              "      <td>0.917092</td>\n",
              "      <td>0.915179</td>\n",
              "    </tr>\n",
              "    <tr>\n",
              "      <th>5</th>\n",
              "      <td>0.865434</td>\n",
              "      <td>0.836735</td>\n",
              "      <td>0.885204</td>\n",
              "      <td>0.891582</td>\n",
              "    </tr>\n",
              "    <tr>\n",
              "      <th>6</th>\n",
              "      <td>0.878749</td>\n",
              "      <td>0.835992</td>\n",
              "      <td>0.904914</td>\n",
              "      <td>0.910657</td>\n",
              "    </tr>\n",
              "    <tr>\n",
              "      <th>7</th>\n",
              "      <td>0.887045</td>\n",
              "      <td>0.850032</td>\n",
              "      <td>0.918315</td>\n",
              "      <td>0.926611</td>\n",
              "    </tr>\n",
              "    <tr>\n",
              "      <th>8</th>\n",
              "      <td>0.873644</td>\n",
              "      <td>0.835354</td>\n",
              "      <td>0.907466</td>\n",
              "      <td>0.913848</td>\n",
              "    </tr>\n",
              "    <tr>\n",
              "      <th>9</th>\n",
              "      <td>0.879387</td>\n",
              "      <td>0.844927</td>\n",
              "      <td>0.909381</td>\n",
              "      <td>0.914486</td>\n",
              "    </tr>\n",
              "    <tr>\n",
              "      <th>mean</th>\n",
              "      <td>0.877265</td>\n",
              "      <td>0.837651</td>\n",
              "      <td>0.906291</td>\n",
              "      <td>0.910629</td>\n",
              "    </tr>\n",
              "    <tr>\n",
              "      <th>std</th>\n",
              "      <td>0.006824</td>\n",
              "      <td>0.007891</td>\n",
              "      <td>0.010258</td>\n",
              "      <td>0.010986</td>\n",
              "    </tr>\n",
              "  </tbody>\n",
              "</table>\n",
              "</div>\n",
              "      <button class=\"colab-df-convert\" onclick=\"convertToInteractive('df-453e8eda-dd1e-4fb9-a083-c8cd99954c63')\"\n",
              "              title=\"Convert this dataframe to an interactive table.\"\n",
              "              style=\"display:none;\">\n",
              "        \n",
              "  <svg xmlns=\"http://www.w3.org/2000/svg\" height=\"24px\"viewBox=\"0 0 24 24\"\n",
              "       width=\"24px\">\n",
              "    <path d=\"M0 0h24v24H0V0z\" fill=\"none\"/>\n",
              "    <path d=\"M18.56 5.44l.94 2.06.94-2.06 2.06-.94-2.06-.94-.94-2.06-.94 2.06-2.06.94zm-11 1L8.5 8.5l.94-2.06 2.06-.94-2.06-.94L8.5 2.5l-.94 2.06-2.06.94zm10 10l.94 2.06.94-2.06 2.06-.94-2.06-.94-.94-2.06-.94 2.06-2.06.94z\"/><path d=\"M17.41 7.96l-1.37-1.37c-.4-.4-.92-.59-1.43-.59-.52 0-1.04.2-1.43.59L10.3 9.45l-7.72 7.72c-.78.78-.78 2.05 0 2.83L4 21.41c.39.39.9.59 1.41.59.51 0 1.02-.2 1.41-.59l7.78-7.78 2.81-2.81c.8-.78.8-2.07 0-2.86zM5.41 20L4 18.59l7.72-7.72 1.47 1.35L5.41 20z\"/>\n",
              "  </svg>\n",
              "      </button>\n",
              "      \n",
              "  <style>\n",
              "    .colab-df-container {\n",
              "      display:flex;\n",
              "      flex-wrap:wrap;\n",
              "      gap: 12px;\n",
              "    }\n",
              "\n",
              "    .colab-df-convert {\n",
              "      background-color: #E8F0FE;\n",
              "      border: none;\n",
              "      border-radius: 50%;\n",
              "      cursor: pointer;\n",
              "      display: none;\n",
              "      fill: #1967D2;\n",
              "      height: 32px;\n",
              "      padding: 0 0 0 0;\n",
              "      width: 32px;\n",
              "    }\n",
              "\n",
              "    .colab-df-convert:hover {\n",
              "      background-color: #E2EBFA;\n",
              "      box-shadow: 0px 1px 2px rgba(60, 64, 67, 0.3), 0px 1px 3px 1px rgba(60, 64, 67, 0.15);\n",
              "      fill: #174EA6;\n",
              "    }\n",
              "\n",
              "    [theme=dark] .colab-df-convert {\n",
              "      background-color: #3B4455;\n",
              "      fill: #D2E3FC;\n",
              "    }\n",
              "\n",
              "    [theme=dark] .colab-df-convert:hover {\n",
              "      background-color: #434B5C;\n",
              "      box-shadow: 0px 1px 3px 1px rgba(0, 0, 0, 0.15);\n",
              "      filter: drop-shadow(0px 1px 2px rgba(0, 0, 0, 0.3));\n",
              "      fill: #FFFFFF;\n",
              "    }\n",
              "  </style>\n",
              "\n",
              "      <script>\n",
              "        const buttonEl =\n",
              "          document.querySelector('#df-453e8eda-dd1e-4fb9-a083-c8cd99954c63 button.colab-df-convert');\n",
              "        buttonEl.style.display =\n",
              "          google.colab.kernel.accessAllowed ? 'block' : 'none';\n",
              "\n",
              "        async function convertToInteractive(key) {\n",
              "          const element = document.querySelector('#df-453e8eda-dd1e-4fb9-a083-c8cd99954c63');\n",
              "          const dataTable =\n",
              "            await google.colab.kernel.invokeFunction('convertToInteractive',\n",
              "                                                     [key], {});\n",
              "          if (!dataTable) return;\n",
              "\n",
              "          const docLinkHtml = 'Like what you see? Visit the ' +\n",
              "            '<a target=\"_blank\" href=https://colab.research.google.com/notebooks/data_table.ipynb>data table notebook</a>'\n",
              "            + ' to learn more about interactive tables.';\n",
              "          element.innerHTML = '';\n",
              "          dataTable['output_type'] = 'display_data';\n",
              "          await google.colab.output.renderOutput(dataTable, element);\n",
              "          const docLink = document.createElement('div');\n",
              "          docLink.innerHTML = docLinkHtml;\n",
              "          element.appendChild(docLink);\n",
              "        }\n",
              "      </script>\n",
              "    </div>\n",
              "  </div>\n",
              "  "
            ]
          },
          "metadata": {},
          "execution_count": 18
        }
      ]
    },
    {
      "cell_type": "code",
      "source": [
        "# 모델별 교차검증 점수 시각화\n",
        "results1 = results_le.drop(['mean', 'std'], axis=1)\n",
        "g = sns.boxplot(data=results1.T, orient='h')\n",
        "g.set_xlabel(\"Mean Accuracy\")\n",
        "g = g.set_title(\"Cross validation scores\")"
      ],
      "metadata": {
        "colab": {
          "base_uri": "https://localhost:8080/",
          "height": 295
        },
        "id": "sXAZVckJ3tf2",
        "outputId": "f8362ab6-5592-4151-fbe1-bba58212156c"
      },
      "execution_count": null,
      "outputs": [
        {
          "output_type": "display_data",
          "data": {
            "text/plain": [
              "<Figure size 432x288 with 1 Axes>"
            ],
            "image/png": "[encoded data removed]"
          },
          "metadata": {
            "needs_background": "light"
          }
        }
      ]
    },
    {
      "cell_type": "code",
      "source": [
        "#하이퍼 파라미터 - 1\n",
        "# Random Forest 객체 생성\n",
        "RFC = RandomForestClassifier(random_state=7)\n",
        "\n",
        "\n",
        "# param_grid 설정\n",
        "rf_param_grid = {\"max_depth\": [10,20,30],\n",
        "              \"min_samples_split\": [2, 3, 10],\n",
        "              \"min_samples_leaf\": [1, 3, 10],\n",
        "              \"bootstrap\": [False],\n",
        "              \"n_estimators\" :[100,300,500],\n",
        "              \"criterion\": [\"gini\"]}\n",
        "\n",
        "# Grid Search 객체 생성\n",
        "#param_grid \n",
        "gsRFC = GridSearchCV(RFC,param_grid = rf_param_grid, cv=kfold, scoring=\"accuracy\", n_jobs= 4, verbose = 1)\n",
        "\n",
        "# Grid Search 실행\n",
        "gsRFC.fit(X_train_tfidf,Y_train)"
      ],
      "metadata": {
        "colab": {
          "base_uri": "https://localhost:8080/"
        },
        "id": "JQ5A3S2T4MSN",
        "outputId": "714d4abd-8b66-4096-b692-1a7f412d9660"
      },
      "execution_count": null,
      "outputs": [
        {
          "output_type": "stream",
          "name": "stdout",
          "text": [
            "Fitting 10 folds for each of 81 candidates, totalling 810 fits\n"
          ]
        },
        {
          "output_type": "execute_result",
          "data": {
            "text/plain": [
              "GridSearchCV(cv=StratifiedKFold(n_splits=10, random_state=None, shuffle=False),\n",
              "             estimator=RandomForestClassifier(random_state=7), n_jobs=4,\n",
              "             param_grid={'bootstrap': [False], 'criterion': ['gini'],\n",
              "                         'max_depth': [10, 20, 30],\n",
              "                         'min_samples_leaf': [1, 3, 10],\n",
              "                         'min_samples_split': [2, 3, 10],\n",
              "                         'n_estimators': [100, 300, 500]},\n",
              "             scoring='accuracy', verbose=1)"
            ]
          },
          "metadata": {},
          "execution_count": 19
        }
      ]
    },
    {
      "cell_type": "code",
      "source": [
        "# 최적의 파라미터 조합 출력\n",
        "RFC_best = gsRFC.best_estimator_\n",
        "print(RFC_best)\n",
        "\n",
        "# 최고 점수(accuracy) 출력\n",
        "print(gsRFC.best_score_)\n"
      ],
      "metadata": {
        "id": "KV0qI9oQ48nn",
        "colab": {
          "base_uri": "https://localhost:8080/"
        },
        "outputId": "78b95cc2-eecc-49dc-b128-0d70723e040b"
      },
      "execution_count": null,
      "outputs": [
        {
          "output_type": "stream",
          "name": "stdout",
          "text": [
            "RandomForestClassifier(bootstrap=False, max_depth=30, n_estimators=300,\n",
            "                       random_state=7)\n",
            "0.8626571799747339\n"
          ]
        }
      ]
    },
    {
      "cell_type": "code",
      "source": [
        "#Support Vector 객체 생성\n",
        "#비활률적모형 서포트백터머신\n",
        "\n",
        "SVM = SVC(random_state=7, probability=True)\n",
        "\n",
        "# param_grid 설정\n",
        "svc_param_grid = {'kernel': ['rbf'], \n",
        "                  'gamma': [ 0.001, 0.01, 0.1, 1],\n",
        "                  'C': [1, 10, 50, 100,200,300, 1000]}\n",
        "\n",
        "# Gradient boost 객체 생성\n",
        "gsSVM = GridSearchCV(SVM,param_grid = svc_param_grid, cv=kfold, scoring=\"accuracy\", n_jobs= 4, verbose = 1)\n",
        "\n",
        "# Grid Search 실행\n",
        "gsSVM.fit(X_train_tfidf,Y_train)"
      ],
      "metadata": {
        "id": "-KDASsnfLJB_",
        "colab": {
          "base_uri": "https://localhost:8080/"
        },
        "outputId": "84bb21b4-18c1-41c1-b0b5-0e6577831c3f"
      },
      "execution_count": null,
      "outputs": [
        {
          "output_type": "stream",
          "name": "stdout",
          "text": [
            "Fitting 10 folds for each of 28 candidates, totalling 280 fits\n"
          ]
        }
      ]
    },
    {
      "cell_type": "code",
      "source": [
        "# 최적의 파라미터 조합 출력\n",
        "SVM_best = gsSVM.best_estimator_\n",
        "print(SVM_best)\n",
        "\n",
        "# 최고 점수(accuracy) 출력\n",
        "print(gsSVM.best_score_)\n"
      ],
      "metadata": {
        "id": "uyitutyLMRIu"
      },
      "execution_count": null,
      "outputs": []
    },
    {
      "cell_type": "code",
      "source": [
        "# Logistic Regression 객체 생성\n",
        "LGS = LogisticClassifier(random_state=7)\n",
        "\n",
        "# param_grid 설정\n",
        "lgs_param_grid = {'penalty': ['l1','l2'], \n",
        "                  'C': np.logspace(0,4,10)}\n",
        "\n",
        "# Gradient boost 객체 생성\n",
        "gsLGS = GridSearchCV(LGS,param_grid = lgs_param_grid, cv=kfold, scoring=\"accuracy\", n_jobs= 4, verbose = 1)\n",
        "\n",
        "# Grid Search 실행\n",
        "gsLGS.fit(X_train_tfidf,Y_train)"
      ],
      "metadata": {
        "id": "RtdQyaLXMh5o"
      },
      "execution_count": null,
      "outputs": []
    },
    {
      "cell_type": "code",
      "source": [
        "# 최적의 파라미터 조합 출력\n",
        "LGS_best = gsLGS.best_estimator_\n",
        "print(LGS_best)\n",
        "\n",
        "# 최고 점수(accuracy) 출력\n",
        "print(gsLGS.best_score_)\n"
      ],
      "metadata": {
        "id": "IEbOgLZMMh8Q"
      },
      "execution_count": null,
      "outputs": []
    }
  ]
}